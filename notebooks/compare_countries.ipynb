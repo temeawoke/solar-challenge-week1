{
 "cells": [
  {
   "cell_type": "code",
   "execution_count": 1,
   "id": "ccdc50fd",
   "metadata": {},
   "outputs": [],
   "source": [
    "import pandas as pd\n",
    "import matplotlib.pyplot as plt\n",
    "import seaborn as sns\n",
    "from scipy.stats import f_oneway, kruskal"
   ]
  },
  {
   "cell_type": "code",
   "execution_count": 2,
   "id": "628cf734",
   "metadata": {},
   "outputs": [],
   "source": [
    "# Load datasets\n",
    "benin = pd.read_csv(\"../my-project/cleaned_benin_solar_data.csv\")\n",
    "sierra_leone = pd.read_csv(\"../my-project/cleaned_sierraleone-bumbuna.csv\")\n",
    "togo = pd.read_csv(\"../my-project/cleaned_togo_solar_data.csv\")\n"
   ]
  },
  {
   "cell_type": "code",
   "execution_count": 3,
   "id": "3bf0cd28",
   "metadata": {},
   "outputs": [],
   "source": [
    "# Add a 'Country' column to each\n",
    "benin['Country'] = 'Benin'\n",
    "sierra_leone['Country'] = 'Sierra Leone'\n",
    "togo['Country'] = 'Togo'"
   ]
  },
  {
   "cell_type": "code",
   "execution_count": 4,
   "id": "2028554a",
   "metadata": {},
   "outputs": [],
   "source": [
    "# Combine all datasets\n",
    "df_all = pd.concat([benin, sierra_leone, togo], ignore_index=True)"
   ]
  },
  {
   "cell_type": "code",
   "execution_count": 5,
   "id": "7edf45b8",
   "metadata": {},
   "outputs": [],
   "source": [
    "df_all.columns = df_all.columns.str.strip().str.upper()  # OR .str.lower()\n"
   ]
  },
  {
   "cell_type": "code",
   "execution_count": 6,
   "id": "8c61af90",
   "metadata": {},
   "outputs": [
    {
     "name": "stdout",
     "output_type": "stream",
     "text": [
      "Sample rows:\n",
      "   COUNTRY  GHI\n",
      "0   Benin -1.2\n",
      "1   Benin -1.1\n",
      "2   Benin -1.1\n",
      "3   Benin -1.1\n",
      "4   Benin -1.0\n"
     ]
    }
   ],
   "source": [
    "print(\"Sample rows:\\n\", df_all[['COUNTRY', 'GHI']].head())"
   ]
  },
  {
   "cell_type": "code",
   "execution_count": 7,
   "id": "31d30a2f",
   "metadata": {},
   "outputs": [
    {
     "name": "stdout",
     "output_type": "stream",
     "text": [
      "             TIMESTAMP  GHI  DNI  DHI  MODA  MODB  TAMB    RH   WS  WSGUST  \\\n",
      "0  2021-08-09 00:01:00 -1.2 -0.2 -1.1   0.0   0.0  26.2  93.4  0.0     0.4   \n",
      "1  2021-08-09 00:02:00 -1.1 -0.2 -1.1   0.0   0.0  26.2  93.6  0.0     0.0   \n",
      "2  2021-08-09 00:03:00 -1.1 -0.2 -1.1   0.0   0.0  26.2  93.7  0.3     1.1   \n",
      "3  2021-08-09 00:04:00 -1.1 -0.1 -1.0   0.0   0.0  26.2  93.3  0.2     0.7   \n",
      "4  2021-08-09 00:05:00 -1.0 -0.1 -1.0   0.0   0.0  26.2  93.3  0.1     0.7   \n",
      "\n",
      "   ...  WDSTDEV   BP  CLEANING  PRECIPITATION  TMODA  TMODB  COMMENTS  MONTH  \\\n",
      "0  ...      0.0  998         0            0.0   26.3   26.2       NaN      8   \n",
      "1  ...      0.0  998         0            0.0   26.3   26.2       NaN      8   \n",
      "2  ...      1.5  997         0            0.0   26.4   26.2       NaN      8   \n",
      "3  ...      1.3  997         0            0.0   26.4   26.3       NaN      8   \n",
      "4  ...      1.0  997         0            0.0   26.4   26.3       NaN      8   \n",
      "\n",
      "   HOUR  COUNTRY  \n",
      "0     0    Benin  \n",
      "1     0    Benin  \n",
      "2     0    Benin  \n",
      "3     0    Benin  \n",
      "4     0    Benin  \n",
      "\n",
      "[5 rows x 22 columns]\n"
     ]
    }
   ],
   "source": [
    "# Basic check\n",
    "print(df_all.head()) "
   ]
  },
  {
   "cell_type": "code",
   "execution_count": 8,
   "id": "c9ab390c",
   "metadata": {},
   "outputs": [
    {
     "name": "stdout",
     "output_type": "stream",
     "text": [
      "Check column names: ['TIMESTAMP', 'GHI', 'DNI', 'DHI', 'MODA', 'MODB', 'TAMB', 'RH', 'WS', 'WSGUST', 'WSSTDEV', 'WD', 'WDSTDEV', 'BP', 'CLEANING', 'PRECIPITATION', 'TMODA', 'TMODB', 'COMMENTS', 'MONTH', 'HOUR', 'COUNTRY']\n"
     ]
    }
   ],
   "source": [
    "if 'Country' in df_all.columns and 'GHI' in df_all.columns:\n",
    "    print(df_all[['Country', 'GHI']].head())\n",
    "else:\n",
    "    print(\"Check column names:\", df_all.columns.tolist())"
   ]
  }
 ],
 "metadata": {
  "kernelspec": {
   "display_name": "venv",
   "language": "python",
   "name": "python3"
  },
  "language_info": {
   "codemirror_mode": {
    "name": "ipython",
    "version": 3
   },
   "file_extension": ".py",
   "mimetype": "text/x-python",
   "name": "python",
   "nbconvert_exporter": "python",
   "pygments_lexer": "ipython3",
   "version": "3.12.5"
  }
 },
 "nbformat": 4,
 "nbformat_minor": 5
}
