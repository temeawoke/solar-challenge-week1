{
 "cells": [
  {
   "cell_type": "markdown",
   "id": "37d2a8ee",
   "metadata": {},
   "source": [
    "# 📊 Benin Solar Data - Exploratory Data Analysis (EDA)\n",
    "**Author:** Temesgen Awoke  \n",
    "**Date:** 2025-05-19  \n",
    "\n",
    "This notebook performs data profiling, cleaning, and exploratory analysis on Benin's solar dataset as part of the 10 Academy regional project."
   ]
  },
  {
   "cell_type": "code",
   "execution_count": null,
   "id": "0a8771eb",
   "metadata": {},
   "outputs": [],
   "source": [
    "import pandas as pd\n",
    "import numpy as np\n",
    "import seaborn as sns\n",
    "import matplotlib.pyplot as plt\n",
    "import missingno as msno \n",
    "import warnings\n",
    "warnings.filterwarnings('ignore')\n",
    "\n",
    "sns.set(style='whitegrid')"
   ]
  },
  {
   "cell_type": "markdown",
   "id": "e42ba898",
   "metadata": {},
   "source": [
    "## 📁 Load Dataset"
   ]
  },
  {
   "cell_type": "code",
   "execution_count": null,
   "id": "ce45ee55",
   "metadata": {},
   "outputs": [],
   "source": [
    "df = pd.read_csv('benin_solar_data.csv')  # replace with actual file name\n",
    "df.head()"
   ]
  },
  {
   "cell_type": "markdown",
   "id": "1a2b4477",
   "metadata": {},
   "source": [
    "## 🔍 Data Profiling"
   ]
  },
  {
   "cell_type": "code",
   "execution_count": null,
   "id": "0b0b8471",
   "metadata": {},
   "outputs": [],
   "source": [
    "print('Shape:', df.shape)\n",
    "df.info()\n",
    "df.describe()\n",
    "df.isnull().sum()"
   ]
  },
  {
   "cell_type": "markdown",
   "id": "4ad04300",
   "metadata": {},
   "source": [
    "## 🧼 Data Cleaning"
   ]
  },
  {
   "cell_type": "code",
   "execution_count": null,
   "id": "aacceb61",
   "metadata": {},
   "outputs": [],
   "source": [
    "# Convert date column to datetime\n",
    "df['timestamp'] = pd.to_datetime(df['timestamp'])\n",
    "\n",
    "# Fill missing values (forward fill example)\n",
    "df.fillna(method='ffill', inplace=True)\n",
    "\n",
    "# Drop duplicates\n",
    "df.drop_duplicates(inplace=True)\n",
    "\n",
    "# Rename columns for clarity\n",
    "df.columns = df.columns.str.strip().str.lower().str.replace(' ', '_')\n",
    "df.head()"
   ]
  },
  {
   "cell_type": "markdown",
   "id": "6f110611",
   "metadata": {},
   "source": [
    "## 📈 Exploratory Data Analysis"
   ]
  },
  {
   "cell_type": "code",
   "execution_count": null,
   "id": "e59f607c",
   "metadata": {},
   "outputs": [],
   "source": [
    "plt.figure(figsize=(12,6))\n",
    "plt.plot(df['timestamp'], df['energy_output_kwh'], color='orange')\n",
    "plt.title('Daily Energy Output in Benin')\n",
    "plt.xlabel('Date')\n",
    "plt.ylabel('Energy Output (kWh)')\n",
    "plt.grid(True)\n",
    "plt.show()"
   ]
  },
  {
   "cell_type": "code",
   "execution_count": null,
   "id": "d8ce5019",
   "metadata": {},
   "outputs": [],
   "source": [
    "plt.figure(figsize=(10,6))\n",
    "sns.heatmap(df.corr(), annot=True, cmap='coolwarm')\n",
    "plt.title('Correlation Matrix')\n",
    "plt.show()"
   ]
  },
  {
   "cell_type": "code",
   "execution_count": null,
   "id": "f0b54126",
   "metadata": {},
   "outputs": [],
   "source": [
    "sns.histplot(df['energy_output_kwh'], kde=True)\n",
    "plt.title('Distribution of Energy Output')\n",
    "plt.show()"
   ]
  },
  {
   "cell_type": "code",
   "execution_count": null,
   "id": "de3a8cca",
   "metadata": {},
   "outputs": [],
   "source": [
    "df['month'] = df['timestamp'].dt.month\n",
    "df['hour'] = df['timestamp'].dt.hour\n",
    "\n",
    "plt.figure(figsize=(10,5))\n",
    "sns.boxplot(x='month', y='energy_output_kwh', data=df)\n",
    "plt.title('Energy Output by Month')\n",
    "plt.show()"
   ]
  },
  {
   "cell_type": "markdown",
   "id": "e57b8cba",
   "metadata": {},
   "source": [
    "## 💾 Save Cleaned Dataset"
   ]
  },
  {
   "cell_type": "code",
   "execution_count": null,
   "id": "081067bf",
   "metadata": {},
   "outputs": [],
   "source": [
    "df.to_csv('cleaned_benin_solar_data.csv', index=False)"
   ]
  },
  {
   "cell_type": "markdown",
   "id": "d06376af",
   "metadata": {},
   "source": [
    "## ✅ Summary of Insights\n",
    "- Dataset shape and time range\n",
    "- Missing values handled using forward fill\n",
    "- Daily and monthly production trends observed\n",
    "- Ready for comparison with Sierra Leone and Togo datasets"
   ]
  }
 ],
 "metadata": {
  "kernelspec": {
   "display_name": "Python 3",
   "language": "python",
   "name": "python3"
  },
  "language_info": {
   "codemirror_mode": {
    "name": "ipython",
    "version": 3
   },
   "file_extension": ".py",
   "mimetype": "text/x-python",
   "name": "python",
   "nbconvert_exporter": "python",
   "pygments_lexer": "ipython3",
   "version": "3.12.5"
  }
 },
 "nbformat": 4,
 "nbformat_minor": 5
}
